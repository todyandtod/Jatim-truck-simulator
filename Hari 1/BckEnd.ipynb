{
 "cells": [
  {
   "cell_type": "code",
   "execution_count": 8,
   "metadata": {},
   "outputs": [
    {
     "ename": "AttributeError",
     "evalue": "module 'fiona' has no attribute '_loading'",
     "output_type": "error",
     "traceback": [
      "\u001b[1;31m---------------------------------------------------------------------------\u001b[0m",
      "\u001b[1;31mAttributeError\u001b[0m                            Traceback (most recent call last)",
      "\u001b[1;32m~\\AppData\\Local\\Temp\\ipykernel_3844\\1384384461.py\u001b[0m in \u001b[0;36m<module>\u001b[1;34m\u001b[0m\n\u001b[0;32m      2\u001b[0m \u001b[1;32mimport\u001b[0m \u001b[0mmatplotlib\u001b[0m\u001b[1;33m.\u001b[0m\u001b[0mpyplot\u001b[0m \u001b[1;32mas\u001b[0m \u001b[0mplt\u001b[0m\u001b[1;33m\u001b[0m\u001b[1;33m\u001b[0m\u001b[0m\n\u001b[0;32m      3\u001b[0m \u001b[1;32mimport\u001b[0m \u001b[0mgeopandas\u001b[0m \u001b[1;32mas\u001b[0m \u001b[0mgpd\u001b[0m\u001b[1;33m\u001b[0m\u001b[1;33m\u001b[0m\u001b[0m\n\u001b[1;32m----> 4\u001b[1;33m \u001b[1;32mimport\u001b[0m \u001b[0mfiona\u001b[0m\u001b[1;33m\u001b[0m\u001b[1;33m\u001b[0m\u001b[0m\n\u001b[0m",
      "\u001b[1;32m~\\AppData\\Roaming\\Python\\Python37\\site-packages\\fiona\\__init__.py\u001b[0m in \u001b[0;36m<module>\u001b[1;34m\u001b[0m\n\u001b[0;32m     86\u001b[0m \u001b[1;33m\u001b[0m\u001b[0m\n\u001b[0;32m     87\u001b[0m \u001b[1;32mimport\u001b[0m \u001b[0mfiona\u001b[0m\u001b[1;33m.\u001b[0m\u001b[0m_loading\u001b[0m\u001b[1;33m\u001b[0m\u001b[1;33m\u001b[0m\u001b[0m\n\u001b[1;32m---> 88\u001b[1;33m \u001b[1;32mwith\u001b[0m \u001b[0mfiona\u001b[0m\u001b[1;33m.\u001b[0m\u001b[0m_loading\u001b[0m\u001b[1;33m.\u001b[0m\u001b[0madd_gdal_dll_directories\u001b[0m\u001b[1;33m(\u001b[0m\u001b[1;33m)\u001b[0m\u001b[1;33m:\u001b[0m\u001b[1;33m\u001b[0m\u001b[1;33m\u001b[0m\u001b[0m\n\u001b[0m\u001b[0;32m     89\u001b[0m     \u001b[1;32mfrom\u001b[0m \u001b[0mfiona\u001b[0m\u001b[1;33m.\u001b[0m\u001b[0mcollection\u001b[0m \u001b[1;32mimport\u001b[0m \u001b[0mBytesCollection\u001b[0m\u001b[1;33m,\u001b[0m \u001b[0mCollection\u001b[0m\u001b[1;33m\u001b[0m\u001b[1;33m\u001b[0m\u001b[0m\n\u001b[0;32m     90\u001b[0m     \u001b[1;32mfrom\u001b[0m \u001b[0mfiona\u001b[0m\u001b[1;33m.\u001b[0m\u001b[0mdrvsupport\u001b[0m \u001b[1;32mimport\u001b[0m \u001b[0msupported_drivers\u001b[0m\u001b[1;33m\u001b[0m\u001b[1;33m\u001b[0m\u001b[0m\n",
      "\u001b[1;31mAttributeError\u001b[0m: module 'fiona' has no attribute '_loading'"
     ]
    }
   ],
   "source": [
    "import pandas as pd\n",
    "import matplotlib.pyplot as plt\n",
    "import geopandas as gpd"
   ]
  },
  {
   "cell_type": "code",
   "execution_count": 3,
   "metadata": {},
   "outputs": [],
   "source": [
    "barang = pd.read_csv('Dataset-barang-angkut.csv')\n",
    "kota = pd.read_csv('dataset_lat-long_jatim.csv', sep=';')"
   ]
  },
  {
   "cell_type": "code",
   "execution_count": 4,
   "metadata": {},
   "outputs": [
    {
     "data": {
      "text/html": [
       "<div>\n",
       "<style scoped>\n",
       "    .dataframe tbody tr th:only-of-type {\n",
       "        vertical-align: middle;\n",
       "    }\n",
       "\n",
       "    .dataframe tbody tr th {\n",
       "        vertical-align: top;\n",
       "    }\n",
       "\n",
       "    .dataframe thead th {\n",
       "        text-align: right;\n",
       "    }\n",
       "</style>\n",
       "<table border=\"1\" class=\"dataframe\">\n",
       "  <thead>\n",
       "    <tr style=\"text-align: right;\">\n",
       "      <th></th>\n",
       "      <th>ID</th>\n",
       "      <th>INITIAL</th>\n",
       "      <th>GOAL</th>\n",
       "      <th>BEBAN MUATAN (TON)</th>\n",
       "      <th>REWARD</th>\n",
       "      <th>JENIS</th>\n",
       "    </tr>\n",
       "  </thead>\n",
       "  <tbody>\n",
       "    <tr>\n",
       "      <th>0</th>\n",
       "      <td>1</td>\n",
       "      <td>Kabupaten Bondowoso</td>\n",
       "      <td>Kabupaten Pacitan</td>\n",
       "      <td>15</td>\n",
       "      <td>1655000</td>\n",
       "      <td>GAS</td>\n",
       "    </tr>\n",
       "    <tr>\n",
       "      <th>1</th>\n",
       "      <td>2</td>\n",
       "      <td>Kabupaten Bondowoso</td>\n",
       "      <td>Kabupaten Pacitan</td>\n",
       "      <td>25</td>\n",
       "      <td>2005000</td>\n",
       "      <td>PADAT</td>\n",
       "    </tr>\n",
       "    <tr>\n",
       "      <th>2</th>\n",
       "      <td>3</td>\n",
       "      <td>Kabupaten Bondowoso</td>\n",
       "      <td>Kabupaten Pacitan</td>\n",
       "      <td>30</td>\n",
       "      <td>2180000</td>\n",
       "      <td>CAIR</td>\n",
       "    </tr>\n",
       "    <tr>\n",
       "      <th>3</th>\n",
       "      <td>4</td>\n",
       "      <td>Kabupaten Bondowoso</td>\n",
       "      <td>Kabupaten Ponorogo</td>\n",
       "      <td>15</td>\n",
       "      <td>1465000</td>\n",
       "      <td>GAS</td>\n",
       "    </tr>\n",
       "    <tr>\n",
       "      <th>4</th>\n",
       "      <td>5</td>\n",
       "      <td>Kabupaten Bondowoso</td>\n",
       "      <td>Kabupaten Ponorogo</td>\n",
       "      <td>25</td>\n",
       "      <td>1815000</td>\n",
       "      <td>PADAT</td>\n",
       "    </tr>\n",
       "  </tbody>\n",
       "</table>\n",
       "</div>"
      ],
      "text/plain": [
       "   ID              INITIAL                GOAL  BEBAN MUATAN (TON)   REWARD  \\\n",
       "0   1  Kabupaten Bondowoso   Kabupaten Pacitan                  15  1655000   \n",
       "1   2  Kabupaten Bondowoso   Kabupaten Pacitan                  25  2005000   \n",
       "2   3  Kabupaten Bondowoso   Kabupaten Pacitan                  30  2180000   \n",
       "3   4  Kabupaten Bondowoso  Kabupaten Ponorogo                  15  1465000   \n",
       "4   5  Kabupaten Bondowoso  Kabupaten Ponorogo                  25  1815000   \n",
       "\n",
       "   JENIS  \n",
       "0    GAS  \n",
       "1  PADAT  \n",
       "2   CAIR  \n",
       "3    GAS  \n",
       "4  PADAT  "
      ]
     },
     "execution_count": 4,
     "metadata": {},
     "output_type": "execute_result"
    }
   ],
   "source": [
    "barang.head()"
   ]
  },
  {
   "cell_type": "code",
   "execution_count": 5,
   "metadata": {},
   "outputs": [
    {
     "data": {
      "text/html": [
       "<div>\n",
       "<style scoped>\n",
       "    .dataframe tbody tr th:only-of-type {\n",
       "        vertical-align: middle;\n",
       "    }\n",
       "\n",
       "    .dataframe tbody tr th {\n",
       "        vertical-align: top;\n",
       "    }\n",
       "\n",
       "    .dataframe thead th {\n",
       "        text-align: right;\n",
       "    }\n",
       "</style>\n",
       "<table border=\"1\" class=\"dataframe\">\n",
       "  <thead>\n",
       "    <tr style=\"text-align: right;\">\n",
       "      <th></th>\n",
       "      <th>ID</th>\n",
       "      <th>Daerah</th>\n",
       "      <th>Latitude</th>\n",
       "      <th>Longitude</th>\n",
       "    </tr>\n",
       "  </thead>\n",
       "  <tbody>\n",
       "    <tr>\n",
       "      <th>0</th>\n",
       "      <td>1</td>\n",
       "      <td>Surabaya</td>\n",
       "      <td>-7,263360277</td>\n",
       "      <td>112,7456592</td>\n",
       "    </tr>\n",
       "    <tr>\n",
       "      <th>1</th>\n",
       "      <td>2</td>\n",
       "      <td>Probolinggo</td>\n",
       "      <td>-7,743461818</td>\n",
       "      <td>113,2159045</td>\n",
       "    </tr>\n",
       "    <tr>\n",
       "      <th>2</th>\n",
       "      <td>3</td>\n",
       "      <td>Pasuruan</td>\n",
       "      <td>-7,641949693</td>\n",
       "      <td>112,906654</td>\n",
       "    </tr>\n",
       "    <tr>\n",
       "      <th>3</th>\n",
       "      <td>4</td>\n",
       "      <td>Mojokerto</td>\n",
       "      <td>-7,463309884</td>\n",
       "      <td>112,4317742</td>\n",
       "    </tr>\n",
       "    <tr>\n",
       "      <th>4</th>\n",
       "      <td>5</td>\n",
       "      <td>Malang</td>\n",
       "      <td>-7,982646369</td>\n",
       "      <td>112,6306718</td>\n",
       "    </tr>\n",
       "  </tbody>\n",
       "</table>\n",
       "</div>"
      ],
      "text/plain": [
       "   ID       Daerah      Latitude    Longitude\n",
       "0   1     Surabaya  -7,263360277  112,7456592\n",
       "1   2  Probolinggo  -7,743461818  113,2159045\n",
       "2   3     Pasuruan  -7,641949693   112,906654\n",
       "3   4    Mojokerto  -7,463309884  112,4317742\n",
       "4   5       Malang  -7,982646369  112,6306718"
      ]
     },
     "execution_count": 5,
     "metadata": {},
     "output_type": "execute_result"
    }
   ],
   "source": [
    "kota.head()"
   ]
  },
  {
   "cell_type": "code",
   "execution_count": null,
   "metadata": {},
   "outputs": [],
   "source": [
    "plt.figure(figsize=(16,9))\n",
    "x = plt.imread('Assets/Peta Jawa Timur.png')\n",
    "plt.imshow(x)\n",
    "\n",
    "\n",
    "plt.scatter(kota['Latitude'][:5], kota['Longitude'][:5])\n",
    "plt.xticks(kota['Latitude'])\n",
    "plt.show()"
   ]
  },
  {
   "cell_type": "code",
   "execution_count": 49,
   "metadata": {},
   "outputs": [
    {
     "data": {
      "text/html": [
       "<div>\n",
       "<style scoped>\n",
       "    .dataframe tbody tr th:only-of-type {\n",
       "        vertical-align: middle;\n",
       "    }\n",
       "\n",
       "    .dataframe tbody tr th {\n",
       "        vertical-align: top;\n",
       "    }\n",
       "\n",
       "    .dataframe thead th {\n",
       "        text-align: right;\n",
       "    }\n",
       "</style>\n",
       "<table border=\"1\" class=\"dataframe\">\n",
       "  <thead>\n",
       "    <tr style=\"text-align: right;\">\n",
       "      <th></th>\n",
       "      <th>ID</th>\n",
       "      <th>Daerah</th>\n",
       "      <th>Latitude</th>\n",
       "      <th>Longitude</th>\n",
       "      <th>geometry</th>\n",
       "    </tr>\n",
       "  </thead>\n",
       "  <tbody>\n",
       "    <tr>\n",
       "      <th>0</th>\n",
       "      <td>1</td>\n",
       "      <td>Surabaya</td>\n",
       "      <td>-7.263360</td>\n",
       "      <td>112.745659</td>\n",
       "      <td>POINT (112.74566 -7.26336)</td>\n",
       "    </tr>\n",
       "    <tr>\n",
       "      <th>1</th>\n",
       "      <td>2</td>\n",
       "      <td>Probolinggo</td>\n",
       "      <td>-7.743462</td>\n",
       "      <td>113.215904</td>\n",
       "      <td>POINT (113.21590 -7.74346)</td>\n",
       "    </tr>\n",
       "    <tr>\n",
       "      <th>2</th>\n",
       "      <td>3</td>\n",
       "      <td>Pasuruan</td>\n",
       "      <td>-7.641950</td>\n",
       "      <td>112.906654</td>\n",
       "      <td>POINT (112.90665 -7.64195)</td>\n",
       "    </tr>\n",
       "    <tr>\n",
       "      <th>3</th>\n",
       "      <td>4</td>\n",
       "      <td>Mojokerto</td>\n",
       "      <td>-7.463310</td>\n",
       "      <td>112.431774</td>\n",
       "      <td>POINT (112.43177 -7.46331)</td>\n",
       "    </tr>\n",
       "    <tr>\n",
       "      <th>4</th>\n",
       "      <td>5</td>\n",
       "      <td>Malang</td>\n",
       "      <td>-7.982646</td>\n",
       "      <td>112.630672</td>\n",
       "      <td>POINT (112.63067 -7.98265)</td>\n",
       "    </tr>\n",
       "    <tr>\n",
       "      <th>5</th>\n",
       "      <td>6</td>\n",
       "      <td>Madiun</td>\n",
       "      <td>-7.629246</td>\n",
       "      <td>111.516911</td>\n",
       "      <td>POINT (111.51691 -7.62925)</td>\n",
       "    </tr>\n",
       "    <tr>\n",
       "      <th>6</th>\n",
       "      <td>7</td>\n",
       "      <td>Kediri</td>\n",
       "      <td>-7.826602</td>\n",
       "      <td>112.011025</td>\n",
       "      <td>POINT (112.01102 -7.82660)</td>\n",
       "    </tr>\n",
       "    <tr>\n",
       "      <th>7</th>\n",
       "      <td>8</td>\n",
       "      <td>Blitar</td>\n",
       "      <td>-8.098276</td>\n",
       "      <td>112.165292</td>\n",
       "      <td>POINT (112.16529 -8.09828)</td>\n",
       "    </tr>\n",
       "    <tr>\n",
       "      <th>8</th>\n",
       "      <td>9</td>\n",
       "      <td>Batu</td>\n",
       "      <td>-7.871129</td>\n",
       "      <td>112.526730</td>\n",
       "      <td>POINT (112.52673 -7.87113)</td>\n",
       "    </tr>\n",
       "    <tr>\n",
       "      <th>9</th>\n",
       "      <td>10</td>\n",
       "      <td>Tulungagung</td>\n",
       "      <td>-8.064680</td>\n",
       "      <td>111.900586</td>\n",
       "      <td>POINT (111.90059 -8.06468)</td>\n",
       "    </tr>\n",
       "    <tr>\n",
       "      <th>10</th>\n",
       "      <td>11</td>\n",
       "      <td>Tuban</td>\n",
       "      <td>-6.895012</td>\n",
       "      <td>112.065159</td>\n",
       "      <td>POINT (112.06516 -6.89501)</td>\n",
       "    </tr>\n",
       "    <tr>\n",
       "      <th>11</th>\n",
       "      <td>12</td>\n",
       "      <td>Trenggalek</td>\n",
       "      <td>-8.048804</td>\n",
       "      <td>111.709155</td>\n",
       "      <td>POINT (111.70915 -8.04880)</td>\n",
       "    </tr>\n",
       "    <tr>\n",
       "      <th>12</th>\n",
       "      <td>13</td>\n",
       "      <td>Sumenep</td>\n",
       "      <td>-7.008400</td>\n",
       "      <td>113.859856</td>\n",
       "      <td>POINT (113.85986 -7.00840)</td>\n",
       "    </tr>\n",
       "    <tr>\n",
       "      <th>13</th>\n",
       "      <td>14</td>\n",
       "      <td>Situbondo</td>\n",
       "      <td>-7.706763</td>\n",
       "      <td>114.005419</td>\n",
       "      <td>POINT (114.00542 -7.70676)</td>\n",
       "    </tr>\n",
       "    <tr>\n",
       "      <th>14</th>\n",
       "      <td>15</td>\n",
       "      <td>Sidoarjo</td>\n",
       "      <td>-7.446228</td>\n",
       "      <td>112.717801</td>\n",
       "      <td>POINT (112.71780 -7.44623)</td>\n",
       "    </tr>\n",
       "    <tr>\n",
       "      <th>15</th>\n",
       "      <td>16</td>\n",
       "      <td>Sampang</td>\n",
       "      <td>-7.202284</td>\n",
       "      <td>113.242610</td>\n",
       "      <td>POINT (113.24261 -7.20228)</td>\n",
       "    </tr>\n",
       "    <tr>\n",
       "      <th>16</th>\n",
       "      <td>17</td>\n",
       "      <td>Ponorogo</td>\n",
       "      <td>-7.871028</td>\n",
       "      <td>111.462488</td>\n",
       "      <td>POINT (111.46249 -7.87103)</td>\n",
       "    </tr>\n",
       "    <tr>\n",
       "      <th>17</th>\n",
       "      <td>18</td>\n",
       "      <td>Pasuruan</td>\n",
       "      <td>-7.641943</td>\n",
       "      <td>112.906666</td>\n",
       "      <td>POINT (112.90667 -7.64194)</td>\n",
       "    </tr>\n",
       "    <tr>\n",
       "      <th>18</th>\n",
       "      <td>19</td>\n",
       "      <td>Pamekasan</td>\n",
       "      <td>-7.160629</td>\n",
       "      <td>113.482644</td>\n",
       "      <td>POINT (113.48264 -7.16063)</td>\n",
       "    </tr>\n",
       "    <tr>\n",
       "      <th>19</th>\n",
       "      <td>20</td>\n",
       "      <td>Pacitan</td>\n",
       "      <td>-8.194715</td>\n",
       "      <td>111.103178</td>\n",
       "      <td>POINT (111.10318 -8.19471)</td>\n",
       "    </tr>\n",
       "    <tr>\n",
       "      <th>20</th>\n",
       "      <td>21</td>\n",
       "      <td>Ngawi</td>\n",
       "      <td>-7.402889</td>\n",
       "      <td>111.444689</td>\n",
       "      <td>POINT (111.44469 -7.40289)</td>\n",
       "    </tr>\n",
       "    <tr>\n",
       "      <th>21</th>\n",
       "      <td>22</td>\n",
       "      <td>Nganjuk</td>\n",
       "      <td>-7.602699</td>\n",
       "      <td>111.900975</td>\n",
       "      <td>POINT (111.90098 -7.60270)</td>\n",
       "    </tr>\n",
       "    <tr>\n",
       "      <th>22</th>\n",
       "      <td>23</td>\n",
       "      <td>Magetan</td>\n",
       "      <td>-7.656041</td>\n",
       "      <td>111.328206</td>\n",
       "      <td>POINT (111.32821 -7.65604)</td>\n",
       "    </tr>\n",
       "    <tr>\n",
       "      <th>23</th>\n",
       "      <td>24</td>\n",
       "      <td>Lumajang</td>\n",
       "      <td>-8.135193</td>\n",
       "      <td>113.224432</td>\n",
       "      <td>POINT (113.22443 -8.13519)</td>\n",
       "    </tr>\n",
       "    <tr>\n",
       "      <th>24</th>\n",
       "      <td>25</td>\n",
       "      <td>Lamongan</td>\n",
       "      <td>-7.120442</td>\n",
       "      <td>112.415666</td>\n",
       "      <td>POINT (112.41567 -7.12044)</td>\n",
       "    </tr>\n",
       "    <tr>\n",
       "      <th>25</th>\n",
       "      <td>26</td>\n",
       "      <td>Jombang</td>\n",
       "      <td>-7.556906</td>\n",
       "      <td>112.233380</td>\n",
       "      <td>POINT (112.23338 -7.55691)</td>\n",
       "    </tr>\n",
       "    <tr>\n",
       "      <th>26</th>\n",
       "      <td>27</td>\n",
       "      <td>Jember</td>\n",
       "      <td>-8.169069</td>\n",
       "      <td>113.702228</td>\n",
       "      <td>POINT (113.70223 -8.16907)</td>\n",
       "    </tr>\n",
       "    <tr>\n",
       "      <th>27</th>\n",
       "      <td>28</td>\n",
       "      <td>Gresik</td>\n",
       "      <td>-7.157131</td>\n",
       "      <td>112.656141</td>\n",
       "      <td>POINT (112.65614 -7.15713)</td>\n",
       "    </tr>\n",
       "    <tr>\n",
       "      <th>28</th>\n",
       "      <td>29</td>\n",
       "      <td>Bondowoso</td>\n",
       "      <td>-7.913149</td>\n",
       "      <td>113.822573</td>\n",
       "      <td>POINT (113.82257 -7.91315)</td>\n",
       "    </tr>\n",
       "    <tr>\n",
       "      <th>29</th>\n",
       "      <td>30</td>\n",
       "      <td>Bojonegoro</td>\n",
       "      <td>-7.149495</td>\n",
       "      <td>111.880227</td>\n",
       "      <td>POINT (111.88023 -7.14950)</td>\n",
       "    </tr>\n",
       "    <tr>\n",
       "      <th>30</th>\n",
       "      <td>31</td>\n",
       "      <td>Banyuwangi</td>\n",
       "      <td>-8.209418</td>\n",
       "      <td>114.373779</td>\n",
       "      <td>POINT (114.37378 -8.20942)</td>\n",
       "    </tr>\n",
       "    <tr>\n",
       "      <th>31</th>\n",
       "      <td>32</td>\n",
       "      <td>Bangkalan</td>\n",
       "      <td>-7.030080</td>\n",
       "      <td>112.748709</td>\n",
       "      <td>POINT (112.74871 -7.03008)</td>\n",
       "    </tr>\n",
       "  </tbody>\n",
       "</table>\n",
       "</div>"
      ],
      "text/plain": [
       "    ID       Daerah  Latitude   Longitude                    geometry\n",
       "0    1     Surabaya -7.263360  112.745659  POINT (112.74566 -7.26336)\n",
       "1    2  Probolinggo -7.743462  113.215904  POINT (113.21590 -7.74346)\n",
       "2    3     Pasuruan -7.641950  112.906654  POINT (112.90665 -7.64195)\n",
       "3    4    Mojokerto -7.463310  112.431774  POINT (112.43177 -7.46331)\n",
       "4    5       Malang -7.982646  112.630672  POINT (112.63067 -7.98265)\n",
       "5    6       Madiun -7.629246  111.516911  POINT (111.51691 -7.62925)\n",
       "6    7       Kediri -7.826602  112.011025  POINT (112.01102 -7.82660)\n",
       "7    8       Blitar -8.098276  112.165292  POINT (112.16529 -8.09828)\n",
       "8    9         Batu -7.871129  112.526730  POINT (112.52673 -7.87113)\n",
       "9   10  Tulungagung -8.064680  111.900586  POINT (111.90059 -8.06468)\n",
       "10  11        Tuban -6.895012  112.065159  POINT (112.06516 -6.89501)\n",
       "11  12   Trenggalek -8.048804  111.709155  POINT (111.70915 -8.04880)\n",
       "12  13      Sumenep -7.008400  113.859856  POINT (113.85986 -7.00840)\n",
       "13  14    Situbondo -7.706763  114.005419  POINT (114.00542 -7.70676)\n",
       "14  15     Sidoarjo -7.446228  112.717801  POINT (112.71780 -7.44623)\n",
       "15  16      Sampang -7.202284  113.242610  POINT (113.24261 -7.20228)\n",
       "16  17     Ponorogo -7.871028  111.462488  POINT (111.46249 -7.87103)\n",
       "17  18     Pasuruan -7.641943  112.906666  POINT (112.90667 -7.64194)\n",
       "18  19    Pamekasan -7.160629  113.482644  POINT (113.48264 -7.16063)\n",
       "19  20      Pacitan -8.194715  111.103178  POINT (111.10318 -8.19471)\n",
       "20  21        Ngawi -7.402889  111.444689  POINT (111.44469 -7.40289)\n",
       "21  22      Nganjuk -7.602699  111.900975  POINT (111.90098 -7.60270)\n",
       "22  23      Magetan -7.656041  111.328206  POINT (111.32821 -7.65604)\n",
       "23  24     Lumajang -8.135193  113.224432  POINT (113.22443 -8.13519)\n",
       "24  25     Lamongan -7.120442  112.415666  POINT (112.41567 -7.12044)\n",
       "25  26      Jombang -7.556906  112.233380  POINT (112.23338 -7.55691)\n",
       "26  27       Jember -8.169069  113.702228  POINT (113.70223 -8.16907)\n",
       "27  28       Gresik -7.157131  112.656141  POINT (112.65614 -7.15713)\n",
       "28  29    Bondowoso -7.913149  113.822573  POINT (113.82257 -7.91315)\n",
       "29  30   Bojonegoro -7.149495  111.880227  POINT (111.88023 -7.14950)\n",
       "30  31   Banyuwangi -8.209418  114.373779  POINT (114.37378 -8.20942)\n",
       "31  32    Bangkalan -7.030080  112.748709  POINT (112.74871 -7.03008)"
      ]
     },
     "execution_count": 49,
     "metadata": {},
     "output_type": "execute_result"
    }
   ],
   "source": [
    "gs = gpd.GeoSeries.from_xy(kota['Longitude'], kota['Latitude'])\n",
    "gdf = gpd.GeoDataFrame(kota, geometry=gs)\n",
    "gdf\n"
   ]
  },
  {
   "cell_type": "code",
   "execution_count": 53,
   "metadata": {},
   "outputs": [
    {
     "data": {
      "text/plain": [
       "<AxesSubplot:>"
      ]
     },
     "execution_count": 53,
     "metadata": {},
     "output_type": "execute_result"
    },
    {
     "data": {
      "image/png": "[encoded data removed]",
      "text/plain": [
       "<Figure size 432x288 with 1 Axes>"
      ]
     },
     "metadata": {
      "needs_background": "light"
     },
     "output_type": "display_data"
    }
   ],
   "source": [
    "gdf.plot(cmap='jet')"
   ]
  },
  {
   "cell_type": "code",
   "execution_count": null,
   "metadata": {},
   "outputs": [],
   "source": [
    "kota['Latitude'] = kota['Latitude'].astype('string').str.replace(',','.').astype('float64')\n",
    "kota['Longitude'] = kota['Longitude'].astype('string').str.replace(',','.').astype('float64')"
   ]
  },
  {
   "cell_type": "code",
   "execution_count": 29,
   "metadata": {},
   "outputs": [
    {
     "data": {
      "text/html": [
       "<div>\n",
       "<style scoped>\n",
       "    .dataframe tbody tr th:only-of-type {\n",
       "        vertical-align: middle;\n",
       "    }\n",
       "\n",
       "    .dataframe tbody tr th {\n",
       "        vertical-align: top;\n",
       "    }\n",
       "\n",
       "    .dataframe thead th {\n",
       "        text-align: right;\n",
       "    }\n",
       "</style>\n",
       "<table border=\"1\" class=\"dataframe\">\n",
       "  <thead>\n",
       "    <tr style=\"text-align: right;\">\n",
       "      <th></th>\n",
       "      <th>ID</th>\n",
       "      <th>Daerah</th>\n",
       "      <th>Latitude</th>\n",
       "      <th>Longitude</th>\n",
       "    </tr>\n",
       "  </thead>\n",
       "  <tbody>\n",
       "    <tr>\n",
       "      <th>0</th>\n",
       "      <td>1</td>\n",
       "      <td>Surabaya</td>\n",
       "      <td>-7.263360</td>\n",
       "      <td>112.745659</td>\n",
       "    </tr>\n",
       "    <tr>\n",
       "      <th>6</th>\n",
       "      <td>7</td>\n",
       "      <td>Kediri</td>\n",
       "      <td>-7.826602</td>\n",
       "      <td>112.011025</td>\n",
       "    </tr>\n",
       "  </tbody>\n",
       "</table>\n",
       "</div>"
      ],
      "text/plain": [
       "   ID    Daerah  Latitude   Longitude\n",
       "0   1  Surabaya -7.263360  112.745659\n",
       "6   7    Kediri -7.826602  112.011025"
      ]
     },
     "execution_count": 29,
     "metadata": {},
     "output_type": "execute_result"
    }
   ],
   "source": [
    "kotaZ = kota.loc[kota['Daerah'] == 'Kediri']\n",
    "kotaX = kota.loc[kota['Daerah'] == 'Surabaya']\n",
    "KotaZX = pd.concat([kotaX,kotaZ])\n",
    "KotaZX"
   ]
  },
  {
   "cell_type": "code",
   "execution_count": 57,
   "metadata": {},
   "outputs": [
    {
     "ename": "TypeError",
     "evalue": "__init__() missing 1 required positional argument: 'locs'",
     "output_type": "error",
     "traceback": [
      "\u001b[1;31m---------------------------------------------------------------------------\u001b[0m",
      "\u001b[1;31mTypeError\u001b[0m                                 Traceback (most recent call last)",
      "\u001b[1;32m~\\AppData\\Local\\Temp\\ipykernel_3844\\3058726482.py\u001b[0m in \u001b[0;36m<module>\u001b[1;34m\u001b[0m\n\u001b[0;32m      8\u001b[0m \u001b[0mplt\u001b[0m\u001b[1;33m.\u001b[0m\u001b[0mxticks\u001b[0m\u001b[1;33m(\u001b[0m\u001b[1;33m[\u001b[0m\u001b[1;33m]\u001b[0m\u001b[1;33m)\u001b[0m\u001b[1;33m\u001b[0m\u001b[1;33m\u001b[0m\u001b[0m\n\u001b[0;32m      9\u001b[0m \u001b[0mplt\u001b[0m\u001b[1;33m.\u001b[0m\u001b[0myticks\u001b[0m\u001b[1;33m(\u001b[0m\u001b[1;33m[\u001b[0m\u001b[1;33m]\u001b[0m\u001b[1;33m)\u001b[0m\u001b[1;33m\u001b[0m\u001b[1;33m\u001b[0m\u001b[0m\n\u001b[1;32m---> 10\u001b[1;33m \u001b[0mplt\u001b[0m\u001b[1;33m.\u001b[0m\u001b[0mFixedLocator\u001b[0m\u001b[1;33m(\u001b[0m\u001b[1;33m)\u001b[0m\u001b[1;33m\u001b[0m\u001b[1;33m\u001b[0m\u001b[0m\n\u001b[0m\u001b[0;32m     11\u001b[0m \u001b[1;31m#plt.savefig('Peta.png')\u001b[0m\u001b[1;33m\u001b[0m\u001b[1;33m\u001b[0m\u001b[1;33m\u001b[0m\u001b[0m\n\u001b[0;32m     12\u001b[0m \u001b[0mplt\u001b[0m\u001b[1;33m.\u001b[0m\u001b[0mshow\u001b[0m\u001b[1;33m(\u001b[0m\u001b[1;33m)\u001b[0m\u001b[1;33m\u001b[0m\u001b[1;33m\u001b[0m\u001b[0m\n",
      "\u001b[1;31mTypeError\u001b[0m: __init__() missing 1 required positional argument: 'locs'"
     ]
    },
    {
     "data": {
      "image/png": "[encoded data removed]",
      "text/plain": [
       "<Figure size 1152x648 with 1 Axes>"
      ]
     },
     "metadata": {},
     "output_type": "display_data"
    }
   ],
   "source": [
    "plt.figure(figsize=(16,9))\n",
    "\n",
    "plt.scatter(kota['Longitude'], kota['Latitude'])\n",
    "plt.plot(KotaZX['Longitude'], KotaZX['Latitude'], '.-r')\n",
    "#plt.imshow(x)\n",
    "# plt.xticks(kota['Latitude'])\n",
    "# plt.yticks(kota['Longitude'])\n",
    "plt.xticks([])\n",
    "plt.yticks([])\n",
    "#plt.savefig('Peta.png')\n",
    "plt.show()"
   ]
  },
  {
   "cell_type": "code",
   "execution_count": 54,
   "metadata": {},
   "outputs": [
    {
     "data": {
      "text/plain": [
       "<matplotlib.image.AxesImage at 0x15ab0a99708>"
      ]
     },
     "execution_count": 54,
     "metadata": {},
     "output_type": "execute_result"
    },
    {
     "data": {
      "image/png": "[encoded data removed]",
      "text/plain": [
       "<Figure size 432x288 with 1 Axes>"
      ]
     },
     "metadata": {
      "needs_background": "light"
     },
     "output_type": "display_data"
    }
   ],
   "source": [
    "plt.imshow(x)"
   ]
  },
  {
   "cell_type": "code",
   "execution_count": 38,
   "metadata": {},
   "outputs": [
    {
     "data": {
      "text/plain": [
       "[<matplotlib.lines.Line2D at 0x15ab106c9c8>]"
      ]
     },
     "execution_count": 38,
     "metadata": {},
     "output_type": "execute_result"
    },
    {
     "data": {
      "image/png": "[encoded data removed]",
      "text/plain": [
       "<Figure size 432x288 with 1 Axes>"
      ]
     },
     "metadata": {
      "needs_background": "light"
     },
     "output_type": "display_data"
    }
   ],
   "source": [
    "plt.plot(kota['Latitude'], kota['Longitude'], '.-b')"
   ]
  },
  {
   "cell_type": "code",
   "execution_count": 39,
   "metadata": {},
   "outputs": [
    {
     "ename": "ValueError",
     "evalue": "Expected 2D array, got 1D array instead:\narray=[-7.26336028 -7.74346182 -7.64194969 -7.46330988 -7.98264637 -7.6292461\n -7.82660216 -8.09827633 -7.87112889 -8.06468026 -6.89501168 -8.04880385\n -7.00839954 -7.70676286 -7.44622837 -7.20228406 -7.87102822 -7.64194289\n -7.16062943 -8.19471484 -7.40288918 -7.60269877 -7.65604147 -8.13519324\n -7.12044176 -7.55690613 -8.16906907 -7.15713059 -7.91314882 -7.14949527\n -8.20941794 -7.03008005].\nReshape your data either using array.reshape(-1, 1) if your data has a single feature or array.reshape(1, -1) if it contains a single sample.",
     "output_type": "error",
     "traceback": [
      "\u001b[1;31m---------------------------------------------------------------------------\u001b[0m",
      "\u001b[1;31mValueError\u001b[0m                                Traceback (most recent call last)",
      "\u001b[1;32m~\\AppData\\Local\\Temp\\ipykernel_3844\\3370475845.py\u001b[0m in \u001b[0;36m<module>\u001b[1;34m\u001b[0m\n\u001b[0;32m      2\u001b[0m \u001b[1;33m\u001b[0m\u001b[0m\n\u001b[0;32m      3\u001b[0m \u001b[0mai\u001b[0m \u001b[1;33m=\u001b[0m \u001b[0mSVC\u001b[0m\u001b[1;33m(\u001b[0m\u001b[1;33m)\u001b[0m\u001b[1;33m\u001b[0m\u001b[1;33m\u001b[0m\u001b[0m\n\u001b[1;32m----> 4\u001b[1;33m \u001b[0mai\u001b[0m\u001b[1;33m.\u001b[0m\u001b[0mfit\u001b[0m\u001b[1;33m(\u001b[0m\u001b[0mkota\u001b[0m\u001b[1;33m[\u001b[0m\u001b[1;34m'Latitude'\u001b[0m\u001b[1;33m]\u001b[0m\u001b[1;33m,\u001b[0m \u001b[0mkota\u001b[0m\u001b[1;33m[\u001b[0m\u001b[1;34m'Longitude'\u001b[0m\u001b[1;33m]\u001b[0m\u001b[1;33m)\u001b[0m\u001b[1;33m\u001b[0m\u001b[1;33m\u001b[0m\u001b[0m\n\u001b[0m\u001b[0;32m      5\u001b[0m \u001b[0mai\u001b[0m\u001b[1;33m.\u001b[0m\u001b[0mpredict\u001b[0m\u001b[1;33m(\u001b[0m\u001b[0mkota\u001b[0m\u001b[1;33m[\u001b[0m\u001b[1;34m'Latitude'\u001b[0m\u001b[1;33m]\u001b[0m\u001b[1;33m,\u001b[0m \u001b[0mkota\u001b[0m\u001b[1;33m[\u001b[0m\u001b[1;34m'Longitude'\u001b[0m\u001b[1;33m]\u001b[0m\u001b[1;33m)\u001b[0m\u001b[1;33m\u001b[0m\u001b[1;33m\u001b[0m\u001b[0m\n",
      "\u001b[1;32m~\\AppData\\Roaming\\Python\\Python37\\site-packages\\sklearn\\svm\\_base.py\u001b[0m in \u001b[0;36mfit\u001b[1;34m(self, X, y, sample_weight)\u001b[0m\n\u001b[0;32m    194\u001b[0m                 \u001b[0morder\u001b[0m\u001b[1;33m=\u001b[0m\u001b[1;34m\"C\"\u001b[0m\u001b[1;33m,\u001b[0m\u001b[1;33m\u001b[0m\u001b[1;33m\u001b[0m\u001b[0m\n\u001b[0;32m    195\u001b[0m                 \u001b[0maccept_sparse\u001b[0m\u001b[1;33m=\u001b[0m\u001b[1;34m\"csr\"\u001b[0m\u001b[1;33m,\u001b[0m\u001b[1;33m\u001b[0m\u001b[1;33m\u001b[0m\u001b[0m\n\u001b[1;32m--> 196\u001b[1;33m                 \u001b[0maccept_large_sparse\u001b[0m\u001b[1;33m=\u001b[0m\u001b[1;32mFalse\u001b[0m\u001b[1;33m,\u001b[0m\u001b[1;33m\u001b[0m\u001b[1;33m\u001b[0m\u001b[0m\n\u001b[0m\u001b[0;32m    197\u001b[0m             )\n\u001b[0;32m    198\u001b[0m \u001b[1;33m\u001b[0m\u001b[0m\n",
      "\u001b[1;32m~\\AppData\\Roaming\\Python\\Python37\\site-packages\\sklearn\\base.py\u001b[0m in \u001b[0;36m_validate_data\u001b[1;34m(self, X, y, reset, validate_separately, **check_params)\u001b[0m\n\u001b[0;32m    579\u001b[0m                 \u001b[0my\u001b[0m \u001b[1;33m=\u001b[0m \u001b[0mcheck_array\u001b[0m\u001b[1;33m(\u001b[0m\u001b[0my\u001b[0m\u001b[1;33m,\u001b[0m \u001b[1;33m**\u001b[0m\u001b[0mcheck_y_params\u001b[0m\u001b[1;33m)\u001b[0m\u001b[1;33m\u001b[0m\u001b[1;33m\u001b[0m\u001b[0m\n\u001b[0;32m    580\u001b[0m             \u001b[1;32melse\u001b[0m\u001b[1;33m:\u001b[0m\u001b[1;33m\u001b[0m\u001b[1;33m\u001b[0m\u001b[0m\n\u001b[1;32m--> 581\u001b[1;33m                 \u001b[0mX\u001b[0m\u001b[1;33m,\u001b[0m \u001b[0my\u001b[0m \u001b[1;33m=\u001b[0m \u001b[0mcheck_X_y\u001b[0m\u001b[1;33m(\u001b[0m\u001b[0mX\u001b[0m\u001b[1;33m,\u001b[0m \u001b[0my\u001b[0m\u001b[1;33m,\u001b[0m \u001b[1;33m**\u001b[0m\u001b[0mcheck_params\u001b[0m\u001b[1;33m)\u001b[0m\u001b[1;33m\u001b[0m\u001b[1;33m\u001b[0m\u001b[0m\n\u001b[0m\u001b[0;32m    582\u001b[0m             \u001b[0mout\u001b[0m \u001b[1;33m=\u001b[0m \u001b[0mX\u001b[0m\u001b[1;33m,\u001b[0m \u001b[0my\u001b[0m\u001b[1;33m\u001b[0m\u001b[1;33m\u001b[0m\u001b[0m\n\u001b[0;32m    583\u001b[0m \u001b[1;33m\u001b[0m\u001b[0m\n",
      "\u001b[1;32m~\\AppData\\Roaming\\Python\\Python37\\site-packages\\sklearn\\utils\\validation.py\u001b[0m in \u001b[0;36mcheck_X_y\u001b[1;34m(X, y, accept_sparse, accept_large_sparse, dtype, order, copy, force_all_finite, ensure_2d, allow_nd, multi_output, ensure_min_samples, ensure_min_features, y_numeric, estimator)\u001b[0m\n\u001b[0;32m    974\u001b[0m         \u001b[0mensure_min_samples\u001b[0m\u001b[1;33m=\u001b[0m\u001b[0mensure_min_samples\u001b[0m\u001b[1;33m,\u001b[0m\u001b[1;33m\u001b[0m\u001b[1;33m\u001b[0m\u001b[0m\n\u001b[0;32m    975\u001b[0m         \u001b[0mensure_min_features\u001b[0m\u001b[1;33m=\u001b[0m\u001b[0mensure_min_features\u001b[0m\u001b[1;33m,\u001b[0m\u001b[1;33m\u001b[0m\u001b[1;33m\u001b[0m\u001b[0m\n\u001b[1;32m--> 976\u001b[1;33m         \u001b[0mestimator\u001b[0m\u001b[1;33m=\u001b[0m\u001b[0mestimator\u001b[0m\u001b[1;33m,\u001b[0m\u001b[1;33m\u001b[0m\u001b[1;33m\u001b[0m\u001b[0m\n\u001b[0m\u001b[0;32m    977\u001b[0m     )\n\u001b[0;32m    978\u001b[0m \u001b[1;33m\u001b[0m\u001b[0m\n",
      "\u001b[1;32m~\\AppData\\Roaming\\Python\\Python37\\site-packages\\sklearn\\utils\\validation.py\u001b[0m in \u001b[0;36mcheck_array\u001b[1;34m(array, accept_sparse, accept_large_sparse, dtype, order, copy, force_all_finite, ensure_2d, allow_nd, ensure_min_samples, ensure_min_features, estimator)\u001b[0m\n\u001b[0;32m    771\u001b[0m                     \u001b[1;34m\"Reshape your data either using array.reshape(-1, 1) if \"\u001b[0m\u001b[1;33m\u001b[0m\u001b[1;33m\u001b[0m\u001b[0m\n\u001b[0;32m    772\u001b[0m                     \u001b[1;34m\"your data has a single feature or array.reshape(1, -1) \"\u001b[0m\u001b[1;33m\u001b[0m\u001b[1;33m\u001b[0m\u001b[0m\n\u001b[1;32m--> 773\u001b[1;33m                     \u001b[1;34m\"if it contains a single sample.\"\u001b[0m\u001b[1;33m.\u001b[0m\u001b[0mformat\u001b[0m\u001b[1;33m(\u001b[0m\u001b[0marray\u001b[0m\u001b[1;33m)\u001b[0m\u001b[1;33m\u001b[0m\u001b[1;33m\u001b[0m\u001b[0m\n\u001b[0m\u001b[0;32m    774\u001b[0m                 )\n\u001b[0;32m    775\u001b[0m \u001b[1;33m\u001b[0m\u001b[0m\n",
      "\u001b[1;31mValueError\u001b[0m: Expected 2D array, got 1D array instead:\narray=[-7.26336028 -7.74346182 -7.64194969 -7.46330988 -7.98264637 -7.6292461\n -7.82660216 -8.09827633 -7.87112889 -8.06468026 -6.89501168 -8.04880385\n -7.00839954 -7.70676286 -7.44622837 -7.20228406 -7.87102822 -7.64194289\n -7.16062943 -8.19471484 -7.40288918 -7.60269877 -7.65604147 -8.13519324\n -7.12044176 -7.55690613 -8.16906907 -7.15713059 -7.91314882 -7.14949527\n -8.20941794 -7.03008005].\nReshape your data either using array.reshape(-1, 1) if your data has a single feature or array.reshape(1, -1) if it contains a single sample."
     ]
    }
   ],
   "source": []
  },
  {
   "cell_type": "code",
   "execution_count": null,
   "metadata": {},
   "outputs": [],
   "source": [
    "gpdf = gpd.read_('dataset_lat-long_jatim.csv', sep=';')"
   ]
  },
  {
   "cell_type": "code",
   "execution_count": null,
   "metadata": {},
   "outputs": [],
   "source": []
  },
  {
   "cell_type": "code",
   "execution_count": 54,
   "metadata": {},
   "outputs": [],
   "source": [
    "kotaAwal = 'Surabaya'\n",
    "kotaAkhir = 'Probolinggo'\n",
    "\n",
    "JatahBensin = 50\n",
    "\n",
    "BatasMuatan = 400"
   ]
  },
  {
   "cell_type": "code",
   "execution_count": 55,
   "metadata": {},
   "outputs": [
    {
     "data": {
      "text/html": [
       "<div>\n",
       "<style scoped>\n",
       "    .dataframe tbody tr th:only-of-type {\n",
       "        vertical-align: middle;\n",
       "    }\n",
       "\n",
       "    .dataframe tbody tr th {\n",
       "        vertical-align: top;\n",
       "    }\n",
       "\n",
       "    .dataframe thead th {\n",
       "        text-align: right;\n",
       "    }\n",
       "</style>\n",
       "<table border=\"1\" class=\"dataframe\">\n",
       "  <thead>\n",
       "    <tr style=\"text-align: right;\">\n",
       "      <th></th>\n",
       "      <th>ID</th>\n",
       "      <th>INITIAL</th>\n",
       "      <th>GOAL</th>\n",
       "      <th>BEBAN MUATAN (TON)</th>\n",
       "      <th>REWARD</th>\n",
       "      <th>JENIS</th>\n",
       "    </tr>\n",
       "  </thead>\n",
       "  <tbody>\n",
       "    <tr>\n",
       "      <th>1245</th>\n",
       "      <td>1246</td>\n",
       "      <td>Surabaya</td>\n",
       "      <td>Probolinggo</td>\n",
       "      <td>15</td>\n",
       "      <td>772500</td>\n",
       "      <td>GAS</td>\n",
       "    </tr>\n",
       "    <tr>\n",
       "      <th>1246</th>\n",
       "      <td>1247</td>\n",
       "      <td>Surabaya</td>\n",
       "      <td>Probolinggo</td>\n",
       "      <td>25</td>\n",
       "      <td>1122500</td>\n",
       "      <td>PADAT</td>\n",
       "    </tr>\n",
       "    <tr>\n",
       "      <th>1247</th>\n",
       "      <td>1248</td>\n",
       "      <td>Surabaya</td>\n",
       "      <td>Probolinggo</td>\n",
       "      <td>30</td>\n",
       "      <td>1297500</td>\n",
       "      <td>CAIR</td>\n",
       "    </tr>\n",
       "  </tbody>\n",
       "</table>\n",
       "</div>"
      ],
      "text/plain": [
       "        ID   INITIAL         GOAL  BEBAN MUATAN (TON)   REWARD  JENIS\n",
       "1245  1246  Surabaya  Probolinggo                  15   772500    GAS\n",
       "1246  1247  Surabaya  Probolinggo                  25  1122500  PADAT\n",
       "1247  1248  Surabaya  Probolinggo                  30  1297500   CAIR"
      ]
     },
     "execution_count": 55,
     "metadata": {},
     "output_type": "execute_result"
    }
   ],
   "source": [
    "rute1 = barang.loc[(barang['INITIAL'] == kotaAwal) & (barang['GOAL'] == kotaAkhir)]\n",
    "rute1"
   ]
  },
  {
   "cell_type": "code",
   "execution_count": 56,
   "metadata": {},
   "outputs": [
    {
     "data": {
      "text/plain": [
       "1297500"
      ]
     },
     "execution_count": 56,
     "metadata": {},
     "output_type": "execute_result"
    }
   ],
   "source": [
    "rute1['REWARD'].max()"
   ]
  },
  {
   "cell_type": "code",
   "execution_count": 57,
   "metadata": {},
   "outputs": [
    {
     "data": {
      "text/plain": [
       "1247    CAIR\n",
       "Name: JENIS, dtype: object"
      ]
     },
     "execution_count": 57,
     "metadata": {},
     "output_type": "execute_result"
    }
   ],
   "source": [
    "bebanMuatan = 'BEBAN MUATAN (TON)'\n",
    "rute2 = rute1.loc[rute1['REWARD'] >= rute1['REWARD'].max()]\n",
    "rute2['JENIS']"
   ]
  },
  {
   "cell_type": "code",
   "execution_count": 58,
   "metadata": {},
   "outputs": [
    {
     "name": "stderr",
     "output_type": "stream",
     "text": [
      "C:\\Users\\USER\\AppData\\Roaming\\Python\\Python37\\site-packages\\ipykernel_launcher.py:3: SettingWithCopyWarning: \n",
      "A value is trying to be set on a copy of a slice from a DataFrame.\n",
      "Try using .loc[row_indexer,col_indexer] = value instead\n",
      "\n",
      "See the caveats in the documentation: https://pandas.pydata.org/pandas-docs/stable/user_guide/indexing.html#returning-a-view-versus-a-copy\n",
      "  This is separate from the ipykernel package so we can avoid doing imports until\n"
     ]
    },
    {
     "data": {
      "text/html": [
       "<div>\n",
       "<style scoped>\n",
       "    .dataframe tbody tr th:only-of-type {\n",
       "        vertical-align: middle;\n",
       "    }\n",
       "\n",
       "    .dataframe tbody tr th {\n",
       "        vertical-align: top;\n",
       "    }\n",
       "\n",
       "    .dataframe thead th {\n",
       "        text-align: right;\n",
       "    }\n",
       "</style>\n",
       "<table border=\"1\" class=\"dataframe\">\n",
       "  <thead>\n",
       "    <tr style=\"text-align: right;\">\n",
       "      <th></th>\n",
       "      <th>ID</th>\n",
       "      <th>INITIAL</th>\n",
       "      <th>GOAL</th>\n",
       "      <th>BEBAN MUATAN (TON)</th>\n",
       "      <th>REWARD</th>\n",
       "      <th>JENIS</th>\n",
       "    </tr>\n",
       "  </thead>\n",
       "  <tbody>\n",
       "    <tr>\n",
       "      <th>1247</th>\n",
       "      <td>1248</td>\n",
       "      <td>Surabaya</td>\n",
       "      <td>Probolinggo</td>\n",
       "      <td>34</td>\n",
       "      <td>1297500</td>\n",
       "      <td>CAIR</td>\n",
       "    </tr>\n",
       "  </tbody>\n",
       "</table>\n",
       "</div>"
      ],
      "text/plain": [
       "        ID   INITIAL         GOAL  BEBAN MUATAN (TON)   REWARD JENIS\n",
       "1247  1248  Surabaya  Probolinggo                  34  1297500  CAIR"
      ]
     },
     "execution_count": 58,
     "metadata": {},
     "output_type": "execute_result"
    }
   ],
   "source": [
    "\n",
    "Jenis = rute2['JENIS'].to_list()\n",
    "if Jenis[0] == 'CAIR' or Jenis[0] == 'GAS':\n",
    "    rute2[bebanMuatan] = rute2[bebanMuatan] + 4\n",
    "\n",
    "rute2"
   ]
  },
  {
   "cell_type": "code",
   "execution_count": null,
   "metadata": {},
   "outputs": [],
   "source": [
    "(123,1231,131)"
   ]
  },
  {
   "cell_type": "code",
   "execution_count": 60,
   "metadata": {},
   "outputs": [
    {
     "data": {
      "text/html": [
       "<div>\n",
       "<style scoped>\n",
       "    .dataframe tbody tr th:only-of-type {\n",
       "        vertical-align: middle;\n",
       "    }\n",
       "\n",
       "    .dataframe tbody tr th {\n",
       "        vertical-align: top;\n",
       "    }\n",
       "\n",
       "    .dataframe thead th {\n",
       "        text-align: right;\n",
       "    }\n",
       "</style>\n",
       "<table border=\"1\" class=\"dataframe\">\n",
       "  <thead>\n",
       "    <tr style=\"text-align: right;\">\n",
       "      <th></th>\n",
       "      <th>ID</th>\n",
       "      <th>INITIAL</th>\n",
       "      <th>GOAL</th>\n",
       "      <th>BEBAN MUATAN (TON)</th>\n",
       "      <th>REWARD</th>\n",
       "      <th>JENIS</th>\n",
       "    </tr>\n",
       "  </thead>\n",
       "  <tbody>\n",
       "  </tbody>\n",
       "</table>\n",
       "</div>"
      ],
      "text/plain": [
       "Empty DataFrame\n",
       "Columns: [ID, INITIAL, GOAL, BEBAN MUATAN (TON), REWARD, JENIS]\n",
       "Index: []"
      ]
     },
     "execution_count": 60,
     "metadata": {},
     "output_type": "execute_result"
    }
   ],
   "source": [
    "barang.loc[(barang['INITIAL'] == kotaAwal) & (barang['GOAL'] == kotaAwal)]"
   ]
  }
 ],
 "metadata": {
  "interpreter": {
   "hash": "1c76478adfe2fd9709f8607835c571b9e70075c063220a2e98d02681f25082e9"
  },
  "kernelspec": {
   "display_name": "Python 3.7.11 ('py37')",
   "language": "python",
   "name": "python3"
  },
  "language_info": {
   "codemirror_mode": {
    "name": "ipython",
    "version": 3
   },
   "file_extension": ".py",
   "mimetype": "text/x-python",
   "name": "python",
   "nbconvert_exporter": "python",
   "pygments_lexer": "ipython3",
   "version": "3.7.11"
  },
  "orig_nbformat": 4
 },
 "nbformat": 4,
 "nbformat_minor": 2
}
